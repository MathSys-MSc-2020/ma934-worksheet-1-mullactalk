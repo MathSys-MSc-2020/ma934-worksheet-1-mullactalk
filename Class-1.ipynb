{
 "cells": [
  {
   "cell_type": "markdown",
   "metadata": {},
   "source": [
    "# MA934 - class 1\n",
    "\n",
    "You should make at least one commit to your repository per computational task below - usually more.\n",
    "\n",
    "\n",
    "## Task 1\n",
    "\n",
    "Make sure that you can run the sample code in main.jl\n",
    "\n",
    "Add a new function to the module Starter.jl that reads in parameters $\\alpha$ and $n$ and produces a log plot of some samples of the function $$f(x) = x^\\alpha \\, \\log(x)$$\n",
    "at values of $x$ that increase in powers of 2 from 1 to $2^n$. This should only involve minor modifications of the existing code."
   ]
  },
  {
   "cell_type": "markdown",
   "metadata": {},
   "source": [
    "## Task 2\n",
    "\n",
    "Write a new module containing functions that compute the $n^{th}$ term, $a_n$, in the Fibonacci sequence:\n",
    " * Iteratively\n",
    " * Recursively\n",
    " * Using memoization (hint: use Julia's Dict type for the lookup table)\n",
    " \n",
    "The functions should work starting from any given values of $a_1$ and $a_2$.\n",
    "\n",
    "Use the BenchmarkTools.jl package to measure the run-time of each of these functions over a range of values of $n$ and produce a plot to illustrate your results.\n",
    "\n",
    "The recursive function implementation gets slow very quickly - I could only do up to $n=48$ on my laptop. Write a recursion relation for the computational complexity of the recursive version of the task. Solve it to prove that the computational complexity grows exponentially with $n$."
   ]
  },
  {
   "cell_type": "markdown",
   "metadata": {},
   "source": [
    "## Task 3\n",
    "\n",
    "The computational complexity of the naive divide-and-conquer algorithm for matrix multiplication satisfies the functional equation $$F(n) = 8 F(n/2) + 4 (n/2)^2$$ with $F(1)=1$.\n",
    "\n",
    "The corresponding equation for Strassen multiplication is $$F(n) = 7 F(n/2) + 18 (n/2)^2$$ with $F(1)=1$.\n",
    "\n",
    "Solve these recurrence relations explicitly to prove that the computational complexity of the two algorithms are $O(n^3)$ and $O(n^{\\log_2(7)})$ respectively. \n",
    "\n",
    "It is helpful to adopt the change of variables $n=2^p$ with $a_p = F(2^p)$ to obtain linear (albeit inhomogeneous) recursion relations. \n",
    "\n",
    "Some helpful online notes about solving recursion relations can be found at:\n",
    "\n",
    "https://www.tutorialspoint.com/discrete_mathematics/discrete_mathematics_recurrence_relation.htm"
   ]
  },
  {
   "cell_type": "code",
   "execution_count": 1,
   "metadata": {},
   "outputs": [
    {
     "data": {
      "text/plain": [
       "4-element Array{String,1}:\n",
       " \"@\"\n",
       " \"@v#.#\"\n",
       " \"@stdlib\"\n",
       " \"C:\\\\Users\\\\Callum\\\\Documents\\\\MathSys\\\\Numerical\\\\ma934-worksheet-1-mullactalk\""
      ]
     },
     "execution_count": 1,
     "metadata": {},
     "output_type": "execute_result"
    }
   ],
   "source": [
    "push!(LOAD_PATH, pwd())"
   ]
  },
  {
   "cell_type": "code",
   "execution_count": 2,
   "metadata": {},
   "outputs": [],
   "source": [
    "using Pkg"
   ]
  },
  {
   "cell_type": "code",
   "execution_count": null,
   "metadata": {},
   "outputs": [],
   "source": [
    "Pkg.add(\"YAML\")"
   ]
  },
  {
   "cell_type": "code",
   "execution_count": null,
   "metadata": {},
   "outputs": [],
   "source": [
    "Pkg.add(\"Plots\")"
   ]
  },
  {
   "cell_type": "code",
   "execution_count": null,
   "metadata": {},
   "outputs": [],
   "source": [
    "include(\"main.jl\")"
   ]
  },
  {
   "cell_type": "code",
   "execution_count": 7,
   "metadata": {},
   "outputs": [
    {
     "name": "stderr",
     "output_type": "stream",
     "text": [
      "WARNING: replacing module fibit.\n"
     ]
    },
    {
     "data": {
      "text/plain": [
       "8"
      ]
     },
     "execution_count": 7,
     "metadata": {},
     "output_type": "execute_result"
    }
   ],
   "source": [
    "include(\"fibit.jl\")\n",
    "fibit.fib2(6)"
   ]
  },
  {
   "cell_type": "code",
   "execution_count": 8,
   "metadata": {},
   "outputs": [
    {
     "data": {
      "text/plain": [
       "6765"
      ]
     },
     "execution_count": 8,
     "metadata": {},
     "output_type": "execute_result"
    }
   ],
   "source": [
    "fibit.fib2(20)"
   ]
  },
  {
   "cell_type": "code",
   "execution_count": 10,
   "metadata": {},
   "outputs": [
    {
     "data": {
      "text/plain": [
       "7006191581884273890"
      ]
     },
     "execution_count": 10,
     "metadata": {},
     "output_type": "execute_result"
    }
   ],
   "source": [
    "fibit.fib2(999999)"
   ]
  },
  {
   "cell_type": "code",
   "execution_count": 16,
   "metadata": {},
   "outputs": [
    {
     "name": "stderr",
     "output_type": "stream",
     "text": [
      "WARNING: replacing module fibrec.\n"
     ]
    },
    {
     "data": {
      "text/plain": [
       "89"
      ]
     },
     "execution_count": 16,
     "metadata": {},
     "output_type": "execute_result"
    }
   ],
   "source": [
    "include(\"fibrec.jl\")\n",
    "fibrec.fib1(11)"
   ]
  },
  {
   "cell_type": "code",
   "execution_count": 17,
   "metadata": {},
   "outputs": [
    {
     "ename": "LoadError",
     "evalue": "MethodError: no method matching -(::UnitRange{Int64}, ::Int64)\nFor element-wise subtraction, use broadcasting with dot syntax: array .- scalar\nClosest candidates are:\n  -(!Matched::Complex{Bool}, ::Real) at complex.jl:307\n  -(!Matched::Missing, ::Number) at missing.jl:115\n  -(!Matched::Base.CoreLogging.LogLevel, ::Integer) at logging.jl:117\n  ...",
     "output_type": "error",
     "traceback": [
      "MethodError: no method matching -(::UnitRange{Int64}, ::Int64)\nFor element-wise subtraction, use broadcasting with dot syntax: array .- scalar\nClosest candidates are:\n  -(!Matched::Complex{Bool}, ::Real) at complex.jl:307\n  -(!Matched::Missing, ::Number) at missing.jl:115\n  -(!Matched::Base.CoreLogging.LogLevel, ::Integer) at logging.jl:117\n  ...",
      "",
      "Stacktrace:",
      " [1] fib1(::UnitRange{Int64}) at C:\\Users\\Callum\\Documents\\MathSys\\Numerical\\ma934-worksheet-1-mullactalk\\fibrec.jl:7",
      " [2] top-level scope at In[17]:1",
      " [3] include_string(::Function, ::Module, ::String, ::String) at .\\loading.jl:1091",
      " [4] execute_code(::String, ::String) at C:\\Users\\Callum\\.julia\\packages\\IJulia\\rWZ9e\\src\\execute_request.jl:27",
      " [5] execute_request(::ZMQ.Socket, ::IJulia.Msg) at C:\\Users\\Callum\\.julia\\packages\\IJulia\\rWZ9e\\src\\execute_request.jl:86",
      " [6] #invokelatest#1 at .\\essentials.jl:710 [inlined]",
      " [7] invokelatest at .\\essentials.jl:709 [inlined]",
      " [8] eventloop(::ZMQ.Socket) at C:\\Users\\Callum\\.julia\\packages\\IJulia\\rWZ9e\\src\\eventloop.jl:8",
      " [9] (::IJulia.var\"#15#18\")() at .\\task.jl:356"
     ]
    }
   ],
   "source": [
    "fibrec.fib1(1:11)"
   ]
  },
  {
   "cell_type": "code",
   "execution_count": null,
   "metadata": {},
   "outputs": [],
   "source": []
  }
 ],
 "metadata": {
  "kernelspec": {
   "display_name": "Julia 1.5.2",
   "language": "julia",
   "name": "julia-1.5"
  },
  "language_info": {
   "file_extension": ".jl",
   "mimetype": "application/julia",
   "name": "julia",
   "version": "1.5.2"
  }
 },
 "nbformat": 4,
 "nbformat_minor": 2
}
